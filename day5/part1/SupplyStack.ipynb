{
 "cells": [
  {
   "cell_type": "markdown",
   "metadata": {},
   "source": [
    "# Day 5: Supply Stacks"
   ]
  },
  {
   "cell_type": "markdown",
   "metadata": {},
   "source": [
    "## Create supply stacks"
   ]
  },
  {
   "cell_type": "code",
   "execution_count": 150,
   "metadata": {},
   "outputs": [
    {
     "data": {
      "text/plain": [
       "[[], [], [], [], [], [], [], [], [], []]"
      ]
     },
     "execution_count": 150,
     "metadata": {},
     "output_type": "execute_result"
    }
   ],
   "source": [
    "stacks = []\n",
    "\n",
    "for i in range(10):\n",
    "    stacks.append([])\n",
    "\n",
    "stacks"
   ]
  },
  {
   "cell_type": "markdown",
   "metadata": {},
   "source": [
    "## Parse the input file\n",
    "\n",
    "> Note: The input is manually split into instructions and the map"
   ]
  },
  {
   "cell_type": "code",
   "execution_count": 151,
   "metadata": {},
   "outputs": [],
   "source": [
    "inputfile = \"input.txt\"\n",
    "mapfile = \"map.txt\""
   ]
  },
  {
   "cell_type": "markdown",
   "metadata": {},
   "source": [
    "The map file is read into a matrix and transformed in a way that is much easier to parse. The input is like:\n",
    "\n",
    "| [ | A | ] |   | [ | B | ] |\n",
    "|---|---|---|---|---|---|---|\n",
    "| [ | C | ] |   | [ | D | ] |\n",
    "|   | 1 |   |   |   | 2 |   |\n",
    "\n",
    " And the output is:\n",
    "\n",
    "|   | [ | [ |\n",
    "|---|---|---|\n",
    "| 1 | C | A |\n",
    "|   | ] | ] |\n",
    "|   |   |   |\n",
    "|   | [ | [ |\n",
    "| 2 | D | B |\n",
    "|   | ] | ] |"
   ]
  },
  {
   "cell_type": "code",
   "execution_count": 152,
   "metadata": {},
   "outputs": [
    {
     "data": {
      "text/plain": [
       "[['F', 'C', 'J', 'P', 'H', 'T', 'W'],\n",
       " ['G', 'R', 'V', 'F', 'Z', 'J', 'B', 'H'],\n",
       " ['H', 'P', 'T', 'R'],\n",
       " ['Z', 'S', 'N', 'P', 'H', 'T'],\n",
       " ['N', 'V', 'F', 'Z', 'H', 'J', 'C', 'D'],\n",
       " ['P', 'M', 'G', 'F', 'W', 'D', 'Z'],\n",
       " ['M', 'V', 'Z', 'W', 'S', 'J', 'D', 'P'],\n",
       " ['N', 'D', 'S'],\n",
       " ['D', 'Z', 'S', 'F', 'M']]"
      ]
     },
     "execution_count": 152,
     "metadata": {},
     "output_type": "execute_result"
    }
   ],
   "source": [
    "import numpy as np\n",
    "\n",
    "lines = []\n",
    "with open(mapfile, \"r\") as f:\n",
    "    for line in f:\n",
    "        lines.append(line.strip(\"\\n\"))\n",
    "\n",
    "lines_transformed = []\n",
    "for line in lines:\n",
    "    lines_transformed.append(list(line[1::4]))\n",
    "\n",
    "lines_transformed.reverse()\n",
    "\n",
    "lines_transformed = np.array(lines_transformed)\n",
    "stacks = lines_transformed.T[:, 1:].tolist()\n",
    "\n",
    "for st in stacks:\n",
    "    while ' ' in st:\n",
    "        st.remove(' ')\n",
    "\n",
    "stacks\n",
    "\n"
   ]
  },
  {
   "cell_type": "code",
   "execution_count": 153,
   "metadata": {},
   "outputs": [
    {
     "data": {
      "text/plain": [
       "[['C', 'H', 'T', 'N', 'W', 'F', 'H', 'S'],\n",
       " ['M', 'P'],\n",
       " ['B', 'M', 'W', 'Z', 'P', 'D', 'D', 'J', 'V', 'Z', 'H', 'Z', 'F'],\n",
       " ['M'],\n",
       " ['V'],\n",
       " ['P', 'D', 'D'],\n",
       " ['T'],\n",
       " ['G', 'W', 'P', 'J', 'J', 'C', 'R', 'F', 'Z', 'V', 'P', 'S', 'N', 'G', 'Z'],\n",
       " ['F', 'H', 'J', 'R', 'D', 'S', 'F', 'S', 'N', 'H', 'Z', 'T']]"
      ]
     },
     "execution_count": 153,
     "metadata": {},
     "output_type": "execute_result"
    }
   ],
   "source": [
    "import regex as re\n",
    "\n",
    "def move(stack, i_from, i_to):\n",
    "    stack[i_to].append(stack[i_from][-1])\n",
    "    del stack[i_from][-1]\n",
    "\n",
    "with open(inputfile, \"r\") as f:\n",
    "    for line in f:\n",
    "        m = re.match(\"move (?P<num>\\d+) from (?P<i_from>\\d+) to (?P<i_to>\\d+)\\n\", line)\n",
    "        d = m.groupdict()\n",
    "        for i in range(int(d[\"num\"])):\n",
    "            move(stacks, int(d[\"i_from\"])-1, int(d[\"i_to\"])-1)\n",
    "\n",
    "stacks"
   ]
  }
 ],
 "metadata": {
  "interpreter": {
   "hash": "916dbcbb3f70747c44a77c7bcd40155683ae19c65e1c03b4aa3499c5328201f1"
  },
  "kernelspec": {
   "display_name": "Python 3.10.6 64-bit",
   "language": "python",
   "name": "python3"
  },
  "language_info": {
   "codemirror_mode": {
    "name": "ipython",
    "version": 3
   },
   "file_extension": ".py",
   "mimetype": "text/x-python",
   "name": "python",
   "nbconvert_exporter": "python",
   "pygments_lexer": "ipython3",
   "version": "3.10.6"
  },
  "orig_nbformat": 4
 },
 "nbformat": 4,
 "nbformat_minor": 2
}
